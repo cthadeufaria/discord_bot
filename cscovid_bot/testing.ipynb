{
 "metadata": {
  "language_info": {
   "codemirror_mode": {
    "name": "ipython",
    "version": 3
   },
   "file_extension": ".py",
   "mimetype": "text/x-python",
   "name": "python",
   "nbconvert_exporter": "python",
   "pygments_lexer": "ipython3",
   "version": "3.8.5-final"
  },
  "orig_nbformat": 2,
  "kernelspec": {
   "name": "python3",
   "display_name": "Python 3.8.5 64-bit",
   "metadata": {
    "interpreter": {
     "hash": "806121e0d9ab62378490313f879e0757307371f5576787fde352e1713f9adda2"
    }
   }
  }
 },
 "nbformat": 4,
 "nbformat_minor": 2,
 "cells": [
  {
   "cell_type": "code",
   "execution_count": 1,
   "metadata": {},
   "outputs": [],
   "source": [
    "import pafy, vlc"
   ]
  },
  {
   "cell_type": "code",
   "execution_count": 1,
   "metadata": {},
   "outputs": [],
   "source": [
    "results = [{'type': 'video', 'id': '1tpIxo4vy80', 'title': 'LUCKHAOS - É a União Flasco (feat. Lucas Hype) [Clipe Oficial]', 'publishedTime': '6 months ago', 'duration': '2:38', 'viewCount': {'text': '8,787,422 views', 'short': '8.7M views'}, 'thumbnails': [{'url': 'https://i.ytimg.com/vi/1tpIxo4vy80/hq720.jpg?sqp=-oaymwEjCOgCEMoBSFryq4qpAxUIARUAAAAAGAElAADIQj0AgKJDeAE=&rs=AOn4CLC0cB-Gnq2SENHunm4SKhAxvczaVg', 'width': 360, 'height': 202}, {'url': 'https://i.ytimg.com/vi/1tpIxo4vy80/hq720.jpg?sqp=-oaymwEXCNAFEJQDSFryq4qpAwkIARUAAIhCGAE=&rs=AOn4CLDwMmud5mSH9BjINRGXNB6PfrH2jg', 'width': 720, 'height': 404}], 'descriptionSnippet': [{'text': 'Você achou que não podia ficar melhor, não é mesmo? ACHOU ERRADO. Segue no instagram/Twitter: @dsluqi Deus do Lucas\\xa0...'}], 'channel': {'name': 'L U C K H A O S', 'id': 'UC7yVHiy5loAHanS7strQ1FQ', 'thumbnails': [{'url': 'https://yt3.ggpht.com/ytc/AAUvwnjgbAcG-FR98glqjq5wL3k5snAbJH-siXJacI0PIA=s68-c-k-c0x00ffffff-no-rj', 'width': 68, 'height': 68}], 'link': 'https://www.youtube.com/channel/UC7yVHiy5loAHanS7strQ1FQ'}, 'accessibility': {'title': 'LUCKHAOS - É a União Flasco (feat. Lucas Hype) [Clipe Oficial] by L U C K H A O S 6 months ago 2 minutes, 38 seconds 8,787,422 views', 'duration': '2 minutes, 38 seconds'}, 'link': 'https://www.youtube.com/watch?v=1tpIxo4vy80', 'shelfTitle': None}, {'type': 'video', 'id': '6KvaEJvFgl0', 'title': 'União Flasco, mano e sem caô MEME (prod: LUCK HAOS)', 'publishedTime': '7 months ago', 'duration': '2:20', 'viewCount': {'text': '48,700 views', 'short': '48K views'}, 'thumbnails': [{'url': 'https://i.ytimg.com/vi/6KvaEJvFgl0/hqdefault.jpg?sqp=-oaymwEjCOADEI4CSFryq4qpAxUIARUAAAAAGAElAADIQj0AgKJDeAE=&rs=AOn4CLAW9YYwBtemDltY91bCN1xDgy7epQ', 'width': 480, 'height': 270}], 'descriptionSnippet': [{'text': 'UniãoFlasco #MEME INSTA: https://instagram.com/aefersonx?igshid=10k8ctm2scsyz.'}], 'channel': {'name': 'Shit Post Baiano', 'id': 'UCshzjJhDCLalBB7EUh5FXUg', 'thumbnails': [{'url': 'https://yt3.ggpht.com/ytc/AAUvwnj6TxSua7EqXJDpI-VuAdYdJ9Noo26Vygha9IW2nA=s68-c-k-c0x00ffffff-no-rj', 'width': 68, 'height': 68}], 'link': 'https://www.youtube.com/channel/UCshzjJhDCLalBB7EUh5FXUg'}, 'accessibility': {'title': 'União Flasco, mano e sem caô MEME (prod: LUCK HAOS) by Shit Post Baiano 7 months ago 2 minutes, 20 seconds 48,700 views', 'duration': '2 minutes, 20 seconds'}, 'link': 'https://www.youtube.com/watch?v=6KvaEJvFgl0', 'shelfTitle': None}]"
   ]
  },
  {
   "cell_type": "code",
   "execution_count": 7,
   "metadata": {},
   "outputs": [
    {
     "output_type": "execute_result",
     "data": {
      "text/plain": [
       "'https://www.youtube.com/watch?v=1tpIxo4vy80'"
      ]
     },
     "metadata": {},
     "execution_count": 7
    }
   ],
   "source": [
    "results[0]['link']"
   ]
  },
  {
   "cell_type": "code",
   "execution_count": 2,
   "metadata": {},
   "outputs": [
    {
     "output_type": "execute_result",
     "data": {
      "text/plain": [
       "0"
      ]
     },
     "metadata": {},
     "execution_count": 2
    }
   ],
   "source": [
    "cucaracha = 'https://www.youtube.com/watch?v=jp9vFhyhNd8'\n",
    "video = pafy.new(cucaracha)\n",
    "best = video.getbest()\n",
    "playurl = best.url\n",
    "Instance = vlc.Instance()\n",
    "player = Instance.media_player_new()\n",
    "Media = Instance.media_new(playurl)\n",
    "Media.get_mrl()\n",
    "player.set_media(Media)\n",
    "player.play()"
   ]
  },
  {
   "cell_type": "code",
   "execution_count": 9,
   "metadata": {},
   "outputs": [
    {
     "output_type": "error",
     "ename": "RegexMatchError",
     "evalue": "get_ytplayer_config: could not find match for config_patterns",
     "traceback": [
      "\u001b[1;31m---------------------------------------------------------------------------\u001b[0m",
      "\u001b[1;31mRegexMatchError\u001b[0m                           Traceback (most recent call last)",
      "\u001b[1;32m<ipython-input-9-ad96109154a9>\u001b[0m in \u001b[0;36m<module>\u001b[1;34m\u001b[0m\n\u001b[0;32m      1\u001b[0m \u001b[1;32mfrom\u001b[0m \u001b[0mpytube\u001b[0m \u001b[1;32mimport\u001b[0m \u001b[0mYouTube\u001b[0m\u001b[1;33m\u001b[0m\u001b[1;33m\u001b[0m\u001b[0m\n\u001b[1;32m----> 2\u001b[1;33m \u001b[0myt\u001b[0m \u001b[1;33m=\u001b[0m \u001b[0mYouTube\u001b[0m\u001b[1;33m(\u001b[0m\u001b[1;34m'https://www.youtube.com/watch?v=O9e32lphFtA'\u001b[0m\u001b[1;33m)\u001b[0m\u001b[1;33m\u001b[0m\u001b[1;33m\u001b[0m\u001b[0m\n\u001b[0m\u001b[0;32m      3\u001b[0m \u001b[0myt\u001b[0m\u001b[1;33m.\u001b[0m\u001b[0mstreams\u001b[0m\u001b[1;33m.\u001b[0m\u001b[0mfilter\u001b[0m\u001b[1;33m(\u001b[0m\u001b[0monly_audio\u001b[0m\u001b[1;33m=\u001b[0m\u001b[1;32mTrue\u001b[0m\u001b[1;33m)\u001b[0m\u001b[1;33m.\u001b[0m\u001b[0mfirst\u001b[0m\u001b[1;33m(\u001b[0m\u001b[1;33m)\u001b[0m\u001b[1;33m.\u001b[0m\u001b[0mdownload\u001b[0m\u001b[1;33m(\u001b[0m\u001b[1;33m)\u001b[0m\u001b[1;33m\u001b[0m\u001b[1;33m\u001b[0m\u001b[0m\n",
      "\u001b[1;32m~\\AppData\\Local\\Programs\\Python\\Python38\\lib\\site-packages\\pytube\\__main__.py\u001b[0m in \u001b[0;36m__init__\u001b[1;34m(self, url, defer_prefetch_init, on_progress_callback, on_complete_callback, proxies)\u001b[0m\n\u001b[0;32m     89\u001b[0m         \u001b[1;31m# video_id part of /watch?v=<video_id>\u001b[0m\u001b[1;33m\u001b[0m\u001b[1;33m\u001b[0m\u001b[1;33m\u001b[0m\u001b[0m\n\u001b[0;32m     90\u001b[0m         \u001b[0mself\u001b[0m\u001b[1;33m.\u001b[0m\u001b[0mvideo_id\u001b[0m \u001b[1;33m=\u001b[0m \u001b[0mextract\u001b[0m\u001b[1;33m.\u001b[0m\u001b[0mvideo_id\u001b[0m\u001b[1;33m(\u001b[0m\u001b[0murl\u001b[0m\u001b[1;33m)\u001b[0m\u001b[1;33m\u001b[0m\u001b[1;33m\u001b[0m\u001b[0m\n\u001b[1;32m---> 91\u001b[1;33m \u001b[1;33m\u001b[0m\u001b[0m\n\u001b[0m\u001b[0;32m     92\u001b[0m         \u001b[0mself\u001b[0m\u001b[1;33m.\u001b[0m\u001b[0mwatch_url\u001b[0m \u001b[1;33m=\u001b[0m \u001b[1;34mf\"https://youtube.com/watch?v={self.video_id}\"\u001b[0m\u001b[1;33m\u001b[0m\u001b[1;33m\u001b[0m\u001b[0m\n\u001b[0;32m     93\u001b[0m         \u001b[0mself\u001b[0m\u001b[1;33m.\u001b[0m\u001b[0membed_url\u001b[0m \u001b[1;33m=\u001b[0m \u001b[1;34mf\"https://www.youtube.com/embed/{self.video_id}\"\u001b[0m\u001b[1;33m\u001b[0m\u001b[1;33m\u001b[0m\u001b[0m\n",
      "\u001b[1;32m~\\AppData\\Local\\Programs\\Python\\Python38\\lib\\site-packages\\pytube\\__main__.py\u001b[0m in \u001b[0;36mprefetch\u001b[1;34m(self)\u001b[0m\n\u001b[0;32m    181\u001b[0m \u001b[1;33m\u001b[0m\u001b[0m\n\u001b[0;32m    182\u001b[0m         \u001b[1;31m# load the player_response object (contains subtitle information)\u001b[0m\u001b[1;33m\u001b[0m\u001b[1;33m\u001b[0m\u001b[1;33m\u001b[0m\u001b[0m\n\u001b[1;32m--> 183\u001b[1;33m         \u001b[1;32mif\u001b[0m \u001b[0misinstance\u001b[0m\u001b[1;33m(\u001b[0m\u001b[0mself\u001b[0m\u001b[1;33m.\u001b[0m\u001b[0mplayer_config_args\u001b[0m\u001b[1;33m[\u001b[0m\u001b[1;34m\"player_response\"\u001b[0m\u001b[1;33m]\u001b[0m\u001b[1;33m,\u001b[0m \u001b[0mstr\u001b[0m\u001b[1;33m)\u001b[0m\u001b[1;33m:\u001b[0m\u001b[1;33m\u001b[0m\u001b[1;33m\u001b[0m\u001b[0m\n\u001b[0m\u001b[0;32m    184\u001b[0m             self.player_response = json.loads(\n\u001b[0;32m    185\u001b[0m                 \u001b[0mself\u001b[0m\u001b[1;33m.\u001b[0m\u001b[0mplayer_config_args\u001b[0m\u001b[1;33m[\u001b[0m\u001b[1;34m\"player_response\"\u001b[0m\u001b[1;33m]\u001b[0m\u001b[1;33m\u001b[0m\u001b[1;33m\u001b[0m\u001b[0m\n",
      "\u001b[1;32m~\\AppData\\Local\\Programs\\Python\\Python38\\lib\\site-packages\\pytube\\extract.py\u001b[0m in \u001b[0;36mjs_url\u001b[1;34m(html)\u001b[0m\n\u001b[0;32m    141\u001b[0m     \u001b[1;33m:\u001b[0m\u001b[0mrtype\u001b[0m\u001b[1;33m:\u001b[0m \u001b[0mbool\u001b[0m\u001b[1;33m\u001b[0m\u001b[1;33m\u001b[0m\u001b[0m\n\u001b[0;32m    142\u001b[0m     \u001b[1;33m:\u001b[0m\u001b[0mreturns\u001b[0m\u001b[1;33m:\u001b[0m\u001b[1;33m\u001b[0m\u001b[1;33m\u001b[0m\u001b[0m\n\u001b[1;32m--> 143\u001b[1;33m         \u001b[0mPlayability\u001b[0m \u001b[0mstatus\u001b[0m \u001b[1;32mand\u001b[0m \u001b[0mreason\u001b[0m \u001b[0mof\u001b[0m \u001b[0mthe\u001b[0m \u001b[0mvideo\u001b[0m\u001b[1;33m.\u001b[0m\u001b[1;33m\u001b[0m\u001b[1;33m\u001b[0m\u001b[0m\n\u001b[0m\u001b[0;32m    144\u001b[0m     \"\"\"\n\u001b[0;32m    145\u001b[0m     \u001b[0mplayer_response\u001b[0m \u001b[1;33m=\u001b[0m \u001b[0minitial_player_response\u001b[0m\u001b[1;33m(\u001b[0m\u001b[0mwatch_html\u001b[0m\u001b[1;33m)\u001b[0m\u001b[1;33m\u001b[0m\u001b[1;33m\u001b[0m\u001b[0m\n",
      "\u001b[1;32m~\\AppData\\Local\\Programs\\Python\\Python38\\lib\\site-packages\\pytube\\extract.py\u001b[0m in \u001b[0;36mget_ytplayer_config\u001b[1;34m(html)\u001b[0m\n\u001b[0;32m    200\u001b[0m         \u001b[1;33m:\u001b[0m\u001b[0msamp\u001b[0m\u001b[1;33m:\u001b[0m\u001b[0;31m`\u001b[0m\u001b[0mhttps\u001b[0m\u001b[1;33m:\u001b[0m\u001b[1;33m//\u001b[0m\u001b[0myoutube\u001b[0m\u001b[1;33m.\u001b[0m\u001b[0mcom\u001b[0m\u001b[1;33m/\u001b[0m\u001b[0mget_video_info\u001b[0m\u001b[0;31m`\u001b[0m \u001b[1;32mwith\u001b[0m \u001b[0mnecessary\u001b[0m \u001b[0mGET\u001b[0m\u001b[1;33m\u001b[0m\u001b[1;33m\u001b[0m\u001b[0m\n\u001b[0;32m    201\u001b[0m         \u001b[0mparameters\u001b[0m\u001b[1;33m.\u001b[0m\u001b[1;33m\u001b[0m\u001b[1;33m\u001b[0m\u001b[0m\n\u001b[1;32m--> 202\u001b[1;33m     \"\"\"\n\u001b[0m\u001b[0;32m    203\u001b[0m     params = OrderedDict(\n\u001b[0;32m    204\u001b[0m         [\n",
      "\u001b[1;31mRegexMatchError\u001b[0m: get_ytplayer_config: could not find match for config_patterns"
     ]
    }
   ],
   "source": [
    "from pytube import YouTube\n",
    "yt = YouTube('https://www.youtube.com/watch?v=O9e32lphFtA')\n",
    "yt.streams.filter(only_audio=True).first().download()"
   ]
  }
 ]
}