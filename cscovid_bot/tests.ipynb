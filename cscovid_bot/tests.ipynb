{
 "metadata": {
  "language_info": {
   "codemirror_mode": {
    "name": "ipython",
    "version": 3
   },
   "file_extension": ".py",
   "mimetype": "text/x-python",
   "name": "python",
   "nbconvert_exporter": "python",
   "pygments_lexer": "ipython3",
   "version": "3.8.5-final"
  },
  "orig_nbformat": 2,
  "kernelspec": {
   "name": "python3",
   "display_name": "Python 3.8.5 64-bit",
   "metadata": {
    "interpreter": {
     "hash": "806121e0d9ab62378490313f879e0757307371f5576787fde352e1713f9adda2"
    }
   }
  }
 },
 "nbformat": 4,
 "nbformat_minor": 2,
 "cells": [
  {
   "cell_type": "code",
   "execution_count": 18,
   "metadata": {},
   "outputs": [],
   "source": [
    "ayuda_dict = {\n",
    "    'add_file' : {\n",
    "    'hola' : '¡Hola, manitos!',\n",
    "    'tocar <nome da música>' : 'Toca música do Youtube.',\n",
    "    'para' : 'Para de tocar música e disconecta do canal de áudio.'\n",
    "    },\n",
    "    'title' : {\n",
    "        'ayuda' : [\n",
    "            '¡Ayuda, manitos!', '''LISTA DE COMANDOS DO BOLUDITO. Executar com \"$<nome do comando>\".'''\n",
    "        ]\n",
    "    }\n",
    "}"
   ]
  },
  {
   "cell_type": "code",
   "execution_count": 21,
   "metadata": {},
   "outputs": [
    {
     "output_type": "execute_result",
     "data": {
      "text/plain": [
       "'¡Ayuda, manitos!'"
      ]
     },
     "metadata": {},
     "execution_count": 21
    }
   ],
   "source": [
    "ayuda_dict['title']['ayuda'][0]"
   ]
  },
  {
   "cell_type": "code",
   "execution_count": 23,
   "metadata": {},
   "outputs": [
    {
     "output_type": "stream",
     "name": "stdout",
     "text": [
      "hola\n¡Hola, manitos!\ntocar <nome da música>\nToca música do Youtube.\npara\nPara de tocar música e disconecta do canal de áudio.\n"
     ]
    }
   ],
   "source": [
    "for cmd in ayuda_dict['add_file'].keys():\n",
    "    print(cmd)\n",
    "    print(ayuda_dict['add_file'][cmd])\n",
    "    # emb.add_field(name=cmd, value=ayuda_dict[cmd], inline=False)"
   ]
  }
 ]
}